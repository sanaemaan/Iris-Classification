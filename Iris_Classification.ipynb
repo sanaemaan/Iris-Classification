{
 "cells": [
  {
   "cell_type": "markdown",
   "id": "3c8748ea",
   "metadata": {},
   "source": [
    "\n",
    "# 🌸 Iris Flower Classification — Beginner Project (CodeAlpha)\n",
    "This notebook guides you **step by step** to build a simple machine learning model that predicts the **species of Iris flowers** from 4 measurements.\n",
    "- **Skills you learn:** Python, pandas, matplotlib, scikit-learn, model training & evaluation.\n",
    "- **Dataset:** The classic Iris dataset bundled with scikit-learn (no download needed).\n"
   ]
  },
  {
   "cell_type": "markdown",
   "id": "30f69ebb",
   "metadata": {},
   "source": [
    "## 1. Setup — Import libraries"
   ]
  },
  {
   "cell_type": "code",
   "execution_count": null,
   "id": "7bf22f82",
   "metadata": {},
   "outputs": [],
   "source": [
    "\n",
    "import pandas as pd\n",
    "import numpy as np\n",
    "import matplotlib.pyplot as plt\n",
    "\n",
    "from sklearn.datasets import load_iris\n",
    "from sklearn.model_selection import train_test_split\n",
    "from sklearn.ensemble import RandomForestClassifier\n",
    "from sklearn.metrics import accuracy_score, classification_report, confusion_matrix\n",
    "import joblib\n",
    "\n",
    "# Make outputs crisp\n",
    "pd.set_option('display.precision', 3)\n",
    "print(\"Libraries imported ✅\")\n"
   ]
  },
  {
   "cell_type": "markdown",
   "id": "7e4669f1",
   "metadata": {},
   "source": [
    "## 2. Load the Iris dataset"
   ]
  },
  {
   "cell_type": "code",
   "execution_count": null,
   "id": "8c354b53",
   "metadata": {},
   "outputs": [],
   "source": [
    "\n",
    "# Load iris as a pandas DataFrame\n",
    "iris = load_iris(as_frame=True)\n",
    "df = iris.frame.copy()\n",
    "\n",
    "# Rename 'target' to 'species_id' and add a readable 'species' column\n",
    "df = df.rename(columns={'target': 'species_id'})\n",
    "id_to_name = {i: name for i, name in enumerate(iris.target_names)}\n",
    "df['species'] = df['species_id'].map(id_to_name)\n",
    "\n",
    "print(\"Shape:\", df.shape)\n",
    "df.head()\n"
   ]
  },
  {
   "cell_type": "markdown",
   "id": "f6f31343",
   "metadata": {},
   "source": [
    "## 3. Quick data check (EDA)"
   ]
  },
  {
   "cell_type": "code",
   "execution_count": null,
   "id": "07b01a2d",
   "metadata": {},
   "outputs": [],
   "source": [
    "\n",
    "print(\"Info:\")\n",
    "print(df.info())\n",
    "print(\"\\nClass balance:\")\n",
    "print(df['species'].value_counts())\n",
    "print(\"\\nSummary stats:\")\n",
    "df.describe()\n"
   ]
  },
  {
   "cell_type": "markdown",
   "id": "d380feca",
   "metadata": {},
   "source": [
    "### 3.1 Feature distributions"
   ]
  },
  {
   "cell_type": "code",
   "execution_count": null,
   "id": "4a5bf66d",
   "metadata": {},
   "outputs": [],
   "source": [
    "\n",
    "# Histograms for each numeric feature\n",
    "features = iris.feature_names\n",
    "for col in features:\n",
    "    plt.figure()\n",
    "    df[col].hist(bins=15)\n",
    "    plt.title(f\"Distribution: {col}\")\n",
    "    plt.xlabel(col)\n",
    "    plt.ylabel(\"Count\")\n",
    "    plt.show()\n"
   ]
  },
  {
   "cell_type": "markdown",
   "id": "1c63db4a",
   "metadata": {},
   "source": [
    "### 3.2 Simple scatter plot (two features)"
   ]
  },
  {
   "cell_type": "code",
   "execution_count": null,
   "id": "53a24470",
   "metadata": {},
   "outputs": [],
   "source": [
    "\n",
    "# Scatter plot: petal length vs petal width, colored by species (default colors)\n",
    "plt.figure()\n",
    "for name, group in df.groupby('species'):\n",
    "    plt.scatter(group['petal length (cm)'], group['petal width (cm)'], label=name)\n",
    "plt.xlabel(\"Petal length (cm)\")\n",
    "plt.ylabel(\"Petal width (cm)\")\n",
    "plt.title(\"Petal length vs Petal width by species\")\n",
    "plt.legend()\n",
    "plt.show()\n"
   ]
  },
  {
   "cell_type": "markdown",
   "id": "e7ee5a50",
   "metadata": {},
   "source": [
    "## 4. Split into train and test sets"
   ]
  },
  {
   "cell_type": "code",
   "execution_count": null,
   "id": "62c22ab2",
   "metadata": {},
   "outputs": [],
   "source": [
    "\n",
    "X = df[iris.feature_names]           # features\n",
    "y = df['species']                    # target labels as names\n",
    "\n",
    "X_train, X_test, y_train, y_test = train_test_split(\n",
    "    X, y, test_size=0.2, random_state=42, stratify=y\n",
    ")\n",
    "\n",
    "print(\"Train size:\", X_train.shape, \" Test size:\", X_test.shape)\n"
   ]
  },
  {
   "cell_type": "markdown",
   "id": "9cd42dfb",
   "metadata": {},
   "source": [
    "## 5. Train a model (RandomForestClassifier)"
   ]
  },
  {
   "cell_type": "code",
   "execution_count": null,
   "id": "d1c7b788",
   "metadata": {},
   "outputs": [],
   "source": [
    "\n",
    "model = RandomForestClassifier(n_estimators=200, random_state=42)\n",
    "model.fit(X_train, y_train)\n",
    "print(\"Model trained ✅\")\n"
   ]
  },
  {
   "cell_type": "markdown",
   "id": "529554fb",
   "metadata": {},
   "source": [
    "## 6. Evaluate the model"
   ]
  },
  {
   "cell_type": "code",
   "execution_count": null,
   "id": "8df050f3",
   "metadata": {},
   "outputs": [],
   "source": [
    "\n",
    "y_pred = model.predict(X_test)\n",
    "\n",
    "acc = accuracy_score(y_test, y_pred)\n",
    "print(f\"Accuracy: {acc:.3f}\\n\")\n",
    "print(\"Classification report:\")\n",
    "print(classification_report(y_test, y_pred))\n",
    "\n",
    "# Confusion matrix plot with matplotlib (one chart)\n",
    "cm = confusion_matrix(y_test, y_pred, labels=sorted(y_test.unique()))\n",
    "fig = plt.figure()\n",
    "plt.imshow(cm, interpolation='nearest')\n",
    "plt.title(\"Confusion Matrix\")\n",
    "plt.xticks(ticks=range(len(cm)), labels=sorted(y_test.unique()), rotation=45, ha='right')\n",
    "plt.yticks(ticks=range(len(cm)), labels=sorted(y_test.unique()))\n",
    "for i in range(cm.shape[0]):\n",
    "    for j in range(cm.shape[1]):\n",
    "        plt.text(j, i, cm[i, j], ha=\"center\", va=\"center\")\n",
    "plt.xlabel(\"Predicted\")\n",
    "plt.ylabel(\"Actual\")\n",
    "plt.tight_layout()\n",
    "plt.show()\n"
   ]
  },
  {
   "cell_type": "markdown",
   "id": "4d4c72ef",
   "metadata": {},
   "source": [
    "## 7. Save the trained model"
   ]
  },
  {
   "cell_type": "code",
   "execution_count": null,
   "id": "6fa58cfd",
   "metadata": {},
   "outputs": [],
   "source": [
    "\n",
    "joblib.dump(model, \"iris_model.pkl\")\n",
    "print(\"Saved: iris_model.pkl ✅\")\n"
   ]
  },
  {
   "cell_type": "markdown",
   "id": "c0360162",
   "metadata": {},
   "source": [
    "## 8. Try predictions with your own numbers"
   ]
  },
  {
   "cell_type": "code",
   "execution_count": null,
   "id": "01e01409",
   "metadata": {},
   "outputs": [],
   "source": [
    "\n",
    "def predict_species(sepal_length, sepal_width, petal_length, petal_width):\n",
    "    sample = pd.DataFrame([{\n",
    "        'sepal length (cm)': sepal_length,\n",
    "        'sepal width (cm)': sepal_width,\n",
    "        'petal length (cm)': petal_length,\n",
    "        'petal width (cm)': petal_width\n",
    "    }])\n",
    "    return model.predict(sample)[0]\n",
    "\n",
    "# Example:\n",
    "print(\"Example prediction:\", predict_species(5.1, 3.5, 1.4, 0.2))\n"
   ]
  },
  {
   "cell_type": "markdown",
   "id": "9eaed897",
   "metadata": {},
   "source": [
    "\n",
    "## 9. What to submit\n",
    "- This notebook (`Iris_Classification.ipynb`) with outputs.\n",
    "- `iris_model.pkl` (saved model).\n",
    "- Short README and a LinkedIn post (tag **@CodeAlpha**) briefly explaining your approach and results.\n"
   ]
  }
 ],
 "metadata": {},
 "nbformat": 4,
 "nbformat_minor": 5
}
